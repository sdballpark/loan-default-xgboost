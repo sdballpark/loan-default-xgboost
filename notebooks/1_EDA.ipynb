{
 "cells": [
  {
   "cell_type": "markdown",
   "id": "b12530f6",
   "metadata": {},
   "source": [
    "# 📊 Exploratory Data Analysis (EDA) for Loan Default Prediction"
   ]
  },
  {
   "cell_type": "code",
   "execution_count": null,
   "id": "a188ca4f",
   "metadata": {},
   "outputs": [],
   "source": [
    "\n",
    "import pandas as pd\n",
    "import matplotlib.pyplot as plt\n",
    "import seaborn as sns\n",
    "\n",
    "# Load the dataset\n",
    "df = pd.read_csv('../data/raw/loan_data.csv')\n",
    "df.head()\n"
   ]
  },
  {
   "cell_type": "code",
   "execution_count": null,
   "id": "ab163f35",
   "metadata": {},
   "outputs": [],
   "source": [
    "\n",
    "# Basic dataset information\n",
    "df.info()\n"
   ]
  },
  {
   "cell_type": "code",
   "execution_count": null,
   "id": "2d73d705",
   "metadata": {},
   "outputs": [],
   "source": [
    "\n",
    "# Check class distribution\n",
    "df['default'].value_counts(normalize=True) * 100\n"
   ]
  },
  {
   "cell_type": "code",
   "execution_count": null,
   "id": "1d3435ea",
   "metadata": {},
   "outputs": [],
   "source": [
    "\n",
    "# Visualize class distribution\n",
    "sns.countplot(x='default', data=df)\n",
    "plt.title('Default Distribution (0: No Default, 1: Default)')\n",
    "plt.show()\n"
   ]
  },
  {
   "cell_type": "code",
   "execution_count": null,
   "id": "9d71a16d",
   "metadata": {},
   "outputs": [],
   "source": [
    "\n",
    "# Visualizing distributions of some numeric features\n",
    "df[['loan_amnt', 'annual_inc', 'dti', 'credit_score']].hist(bins=30, figsize=(12,8))\n",
    "plt.tight_layout()\n",
    "plt.show()\n"
   ]
  },
  {
   "cell_type": "markdown",
   "id": "c51522aa",
   "metadata": {},
   "source": [
    "## ✅ EDA Complete. Proceed to feature engineering and model training!"
   ]
  }
 ],
 "metadata": {},
 "nbformat": 4,
 "nbformat_minor": 5
}
