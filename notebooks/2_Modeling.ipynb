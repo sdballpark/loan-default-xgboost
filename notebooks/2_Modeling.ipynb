{
 "cells": [
  {
   "cell_type": "markdown",
   "id": "5ffdc9c5",
   "metadata": {},
   "source": [
    "# 🤖 Loan Default Prediction - Model Training and Explainability"
   ]
  },
  {
   "cell_type": "code",
   "execution_count": null,
   "id": "ec3415ac",
   "metadata": {},
   "outputs": [],
   "source": [
    "\n",
    "import pandas as pd\n",
    "import xgboost as xgb\n",
    "import shap\n",
    "from sklearn.model_selection import train_test_split\n",
    "from sklearn.metrics import classification_report, roc_auc_score\n",
    "\n",
    "# Load dataset\n",
    "df = pd.read_csv('../data/raw/loan_data.csv')\n"
   ]
  },
  {
   "cell_type": "code",
   "execution_count": null,
   "id": "433a970c",
   "metadata": {},
   "outputs": [],
   "source": [
    "\n",
    "# Preprocessing\n",
    "df = pd.get_dummies(df, columns=['purpose', 'term'], drop_first=True)\n",
    "X = df.drop('default', axis=1)\n",
    "y = df['default']\n",
    "\n",
    "X_train, X_test, y_train, y_test = train_test_split(X, y, test_size=0.3, random_state=42)\n"
   ]
  },
  {
   "cell_type": "code",
   "execution_count": null,
   "id": "9fe5d315",
   "metadata": {},
   "outputs": [],
   "source": [
    "\n",
    "# Model Training\n",
    "model = xgb.XGBClassifier(use_label_encoder=False, eval_metric='logloss')\n",
    "model.fit(X_train, y_train)\n"
   ]
  },
  {
   "cell_type": "code",
   "execution_count": null,
   "id": "b19e1bfe",
   "metadata": {},
   "outputs": [],
   "source": [
    "\n",
    "# Predictions and Evaluation\n",
    "y_pred = model.predict(X_test)\n",
    "print(classification_report(y_test, y_pred))\n",
    "print(f\"ROC AUC Score: {roc_auc_score(y_test, model.predict_proba(X_test)[:,1]):.4f}\")\n"
   ]
  },
  {
   "cell_type": "code",
   "execution_count": null,
   "id": "9b44e638",
   "metadata": {},
   "outputs": [],
   "source": [
    "\n",
    "# SHAP Explainability\n",
    "explainer = shap.TreeExplainer(model)\n",
    "shap_values = explainer.shap_values(X_test)\n",
    "\n",
    "shap.summary_plot(shap_values, X_test)\n"
   ]
  },
  {
   "cell_type": "markdown",
   "id": "6e21b060",
   "metadata": {},
   "source": [
    "## ✅ Modeling Complete. Model and SHAP explanations generated! 🚀"
   ]
  }
 ],
 "metadata": {},
 "nbformat": 4,
 "nbformat_minor": 5
}
